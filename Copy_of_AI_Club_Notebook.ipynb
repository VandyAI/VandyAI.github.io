{
  "nbformat": 4,
  "nbformat_minor": 0,
  "metadata": {
    "colab": {
      "provenance": []
    },
    "kernelspec": {
      "name": "python3",
      "display_name": "Python 3"
    },
    "language_info": {
      "name": "python"
    }
  },
  "cells": [
    {
      "cell_type": "markdown",
      "source": [
        "# **Introduction to Vectors**\n",
        "\n",
        "Vectors are mathematical objects that have both magnitude and direction. They can be represented in various forms, but in this notebook, we will focus on their representation as arrays of numbers.\n",
        "\n",
        "## **Table of Contents**\n",
        "\n",
        "1. [Vector Representation](#1.-Vector-Representation)\n",
        "2. [Vector Addition and Subtraction](#2.-Vector-Addition-and-Subtraction)\n",
        "3. [Scalar Multiplication](#3.-Scalar-Multiplication)\n",
        "4. [Dot Product](#4.-Dot-Product)\n",
        "5. [Vector Norm](#5.-Vector-Norm)\n",
        "6. [Unit Vector](#6.-Unit-Vector)\n",
        "\n",
        "## **1.** **Vector Representation**\n",
        "\n",
        "Vectors can be represented as arrays of numbers. Each number corresponds to a component of the vector in a particular dimension.\n"
      ],
      "metadata": {
        "id": "vS3TJgfot2gD"
      }
    },
    {
      "cell_type": "code",
      "source": [
        "import numpy as np\n",
        "\n",
        "# Representing a 2D vector\n",
        "v2 = np.array([2, 3])\n",
        "\n",
        "# Representing a 3D vector\n",
        "v3 = np.array([1, -2, 4])\n",
        "\n",
        "print(\"2D Vector:\", v2)\n",
        "print(\"3D Vector:\", v3)\n"
      ],
      "metadata": {
        "colab": {
          "base_uri": "https://localhost:8080/"
        },
        "id": "yoa931YYui-c",
        "outputId": "b9584e9d-d445-40e7-e36b-1d9e07bce5ea"
      },
      "execution_count": null,
      "outputs": [
        {
          "output_type": "stream",
          "name": "stdout",
          "text": [
            "2D Vector: [2 3]\n",
            "3D Vector: [ 1 -2  4]\n"
          ]
        }
      ]
    },
    {
      "cell_type": "markdown",
      "source": [
        "## **2. Vector Addition and Subtraction**\n",
        "\n",
        "Vectors can be added or subtracted element-wise.\n",
        "\n",
        "### **Addition**\n",
        "The addition of two vectors u and v is performed as follows:\n",
        "<br>\n",
        "<br>\n",
        "\\begin{bmatrix} u_1 + v_1 \\\\ u_2 + v_2 \\\\ u_3 + v_3 \\end{bmatrix} \\\n",
        "\n",
        "### **Subtraction**\n",
        "The subtraction of two vectors u and v is performed as follows:\n",
        "<br>\n",
        "<br>\n",
        "\\begin{bmatrix} u_1 - v_1 \\\\ u_2 - v_2 \\\\ u_3 - v_3 \\end{bmatrix} \\\n"
      ],
      "metadata": {
        "id": "pmg7CbWuuvdk"
      }
    },
    {
      "cell_type": "code",
      "source": [
        "u = np.array([1, 2])\n",
        "v = np.array([3, 4])\n",
        "\n",
        "# Vector Addition\n",
        "addition = u + v\n",
        "\n",
        "# Vector Subtraction\n",
        "subtraction = u - v\n",
        "\n",
        "print(\"Vector Addition:\", addition)\n",
        "print(\"Vector Subtraction:\", subtraction)\n"
      ],
      "metadata": {
        "colab": {
          "base_uri": "https://localhost:8080/"
        },
        "id": "ldImnwmnwQpx",
        "outputId": "0ddc1987-60f5-4bc9-c1d0-2dc942b8844a"
      },
      "execution_count": null,
      "outputs": [
        {
          "output_type": "stream",
          "name": "stdout",
          "text": [
            "Vector Addition: [4 6]\n",
            "Vector Subtraction: [-2 -2]\n"
          ]
        }
      ]
    },
    {
      "cell_type": "markdown",
      "source": [
        "# **Solving the AI Problem through Image Recognition**\n",
        "\n",
        "One of the central challenges in Artificial Intelligence (AI) is designing models that can understand and interpret various types of data to make meaningful predictions or decisions. A classic example is image recognition, where the goal is to create a model that takes an image as input and outputs a meaningful interpretation of that image.\n",
        "\n",
        "## **1.** **Problem Statement**\n",
        "\n",
        "Given an image, our goal is to design a function (or model) that can accurately identify and classify the content of the image. For instance, in digit classification, the input is an image of a handwritten digit, and the output is the digit that the image represents (0 through 9).\n",
        "\n",
        "## **2.** **The AI Model as a Black Box**\n",
        "\n",
        "The AI model can be thought of as a black box function \\( f \\) that maps an input domain (images) to an output domain (digit labels):\n",
        "\n",
        "<img src=\"/content/input.png\">\n",
        "\n",
        "### **2.1** **Input Domain**\n",
        "\n",
        "The input domain consists of images, which can be represented as arrays of pixel values. Each pixel value indicates the intensity of the light at that particular point in the image.\n",
        "\n",
        "### **2.2** **Output Domain**\n",
        "\n",
        "The output domain is the set of digit labels that the model can predict. In the case of digit classification, this would be the integers from 0 to 9.\n",
        "\n",
        "## **3.** **Challenges and Considerations**\n",
        "\n",
        "Creating an effective AI model for image recognition involves addressing several challenges:\n",
        "\n",
        "### **3.1.** **Variability in Input**\n",
        "\n",
        "Handwritten digits can vary significantly in style, size, and orientation. The model needs to be robust enough to handle this variability and still make accurate predictions.\n",
        "\n",
        "### **3.2.** **Feature Extraction**\n",
        "\n",
        "The model must be able to identify and extract relevant features from the input image that are indicative of the digit represented.\n",
        "\n",
        "### **3.3.** **Model Training**\n",
        "\n",
        "A large amount of labeled data (images of digits with corresponding labels) is required to train the model. The model learns to map from the input domain to the output domain through this training process.\n",
        "\n",
        "### **3.4.** **Evaluation and Optimization**\n",
        "\n",
        "After training, the model must be evaluated to ensure it is making accurate predictions. Techniques like cross-validation can be used for model evaluation and optimization.\n",
        "\n",
        "## **4.** **Conclusion**\n",
        "\n",
        "Solving the AI problem in the context of image recognition requires a deep understanding of both the input and output domains, as well as the challenges associated with mapping from one to the other. Advances in machine learning, particularly deep learning, have led to significant progress in this field, enabling the development of models that can make accurate predictions even in the presence of substantial variability in input data.\n"
      ],
      "metadata": {
        "id": "xaQVuAEextH6"
      }
    },
    {
      "cell_type": "markdown",
      "source": [
        "# **Introduction to Neurons and Neural Networks**\n",
        "\n",
        "Artificial Neural Networks (ANNs) are a fundamental building block in the field of Machine Learning and Artificial Intelligence. They are inspired by the structure and functioning of the human brain and are used to model complex patterns and make predictions or decisions based on input data.\n"
      ],
      "metadata": {
        "id": "xelGnF_50jqE"
      }
    },
    {
      "cell_type": "markdown",
      "source": [
        "## **1. Neurons: The Basic Unit**\n"
      ],
      "metadata": {
        "id": "Vf6uyavg1I9E"
      }
    },
    {
      "cell_type": "markdown",
      "source": [
        "### **What is a Neuron?**\n",
        "\n",
        "A neuron in a neural network is a computational unit that takes a set of inputs, applies a set of weights, adds a bias, passes the result through an activation function, and produces an output.\n",
        "\n",
        "### **Activation Functions**\n",
        "\n",
        "The activation function \\( f \\) is a crucial component in a neuron that is used to compute the weighted sum of inputs and biases. Common choices for \\( f \\) include the Sigmoid function, Hyperbolic Tangent (Tanh), and Rectified Linear Unit (ReLU).\n",
        "\n"
      ],
      "metadata": {
        "id": "7p0nEAal1XCP"
      }
    },
    {
      "cell_type": "code",
      "source": [
        "import numpy as np\n",
        "\n",
        "def sigmoid(x):\n",
        "    return 1 / (1 + np.exp(-x))\n",
        "\n",
        "def neuron(inputs, weights, bias):\n",
        "    z = np.dot(weights, inputs) + bias\n",
        "    return sigmoid(z)\n",
        "\n",
        "# Example inputs, weights, and bias\n",
        "inputs = np.array([0.5, 0.3, 0.8])\n",
        "weights = np.array([0.4, 0.7, 0.2])\n",
        "bias = -0.2\n",
        "\n",
        "# Calculate neuron output\n",
        "output = neuron(inputs, weights, bias)\n",
        "print(\"Neuron Output:\", output)\n"
      ],
      "metadata": {
        "colab": {
          "base_uri": "https://localhost:8080/"
        },
        "id": "AyiU_eiT1MJm",
        "outputId": "8f4f5154-a251-4ec3-8c41-aaf6dff5532f"
      },
      "execution_count": null,
      "outputs": [
        {
          "output_type": "stream",
          "name": "stdout",
          "text": [
            "Neuron Output: 0.5914589784327801\n"
          ]
        }
      ]
    },
    {
      "cell_type": "markdown",
      "source": [
        "## **Neural Networks: Stacking Neurons**\n",
        "\n",
        "### **What is a Neural Network?**\n",
        "\n",
        "A neural network is formed by connecting neurons together. Neurons are arranged in layers: an input layer, one or more hidden layers, and an output layer.\n",
        "\n",
        "### **How it Works**\n",
        "\n",
        "- **Input Layer**: Takes the input features.\n",
        "- **Hidden Layers**: Perform computations and transformations on the input data.\n",
        "- **Output Layer**: Produces the final prediction or decision.\n",
        "\n",
        "### **Example: XOR Function**\n",
        "\n",
        "An XOR function is a simple example where a neural network can be applied. It takes two binary inputs and produces a binary output, which is 1 if the inputs are different and 0 if they are the same.\n"
      ],
      "metadata": {
        "id": "dO_vOhqe2NUY"
      }
    },
    {
      "cell_type": "code",
      "source": [
        "def neural_network(inputs):\n",
        "    # Define weights and biases for the hidden layer\n",
        "    weights_hidden = np.array([[0.2, 0.4, 0.6], [0.1, 0.5, 0.3]])\n",
        "    biases_hidden = np.array([0.1, -0.1])\n",
        "\n",
        "    # Calculate output of the hidden layer\n",
        "    hidden_layer_output = np.array([neuron(inputs, weights_hidden[i], biases_hidden[i]) for i in range(2)])\n",
        "\n",
        "    # Define weights and biases for the output layer\n",
        "    weights_output = np.array([0.7, 0.3])\n",
        "    bias_output = 0.2\n",
        "\n",
        "    # Calculate final output\n",
        "    final_output = neuron(hidden_layer_output, weights_output, bias_output)\n",
        "    return final_output\n",
        "\n",
        "# Calculate neural network output\n",
        "nn_output = neural_network(inputs)\n",
        "print(\"Neural Network Output:\", nn_output)\n"
      ],
      "metadata": {
        "colab": {
          "base_uri": "https://localhost:8080/"
        },
        "id": "JoxzZgZ_2y_F",
        "outputId": "4df246a0-7a35-4367-9327-3c9cad0d39fa"
      },
      "execution_count": null,
      "outputs": [
        {
          "output_type": "stream",
          "name": "stdout",
          "text": [
            "Neural Network Output: 0.7022926611175379\n"
          ]
        }
      ]
    },
    {
      "cell_type": "markdown",
      "source": [
        "## **Building Intelligence through Layers**\n",
        "\n",
        "### **Deep Learning**\n",
        "\n",
        "By stacking multiple layers of neurons (creating a deep neural network), the model can learn complex patterns and representations from the data, leading to more accurate predictions and decisions.\n",
        "\n",
        "### **Learning Hierarchies of Features**\n",
        "\n",
        "In deep learning, lower layers tend to learn basic features, while higher layers combine these basic features to learn more complex patterns.\n",
        "\n",
        "### **Example: Image Recognition**\n",
        "\n",
        "In image recognition, lower layers might learn to recognize edges, the next layer patterns like textures or shapes, and higher layers might recognize objects."
      ],
      "metadata": {
        "id": "0_jHeomV2iYi"
      }
    },
    {
      "cell_type": "markdown",
      "source": [
        "## **Conclusion**\n",
        "\n",
        "Neural networks, by mimicking the structure of the brain, provide a powerful tool for learning from data. Through the careful stacking of neurons into layers, and the use of activation functions and training algorithms, these networks can learn to perform a wide variety of tasks, forming the basis of artificial intelligence."
      ],
      "metadata": {
        "id": "22eXeCiH2pt3"
      }
    }
  ]
}